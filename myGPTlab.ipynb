{
  "cells": [
    {
      "cell_type": "markdown",
      "metadata": {
        "id": "view-in-github",
        "colab_type": "text"
      },
      "source": [
        "<a href=\"https://colab.research.google.com/github/aknip/Streamlit-Gradio/blob/main/myGPTlab.ipynb\" target=\"_parent\"><img src=\"https://colab.research.google.com/assets/colab-badge.svg\" alt=\"Open In Colab\"/></a>"
      ]
    },
    {
      "cell_type": "markdown",
      "source": [
        "# myGPTlab\n",
        "\n",
        "This app helps to process texts (longform content) with ChatGPT via API.\n",
        "\n",
        "## Start:\n",
        "**Run all cells - that's it.**\n",
        "- The notebooks checks automatically, if an initial setup (with PIP etc.) is necessary. The setup status is saved in the file 'installation.done'\n",
        "- You can force the setup by deleting this file or by going to Seciton \"Setup and Configuration\" and checking \"inital_setup_mode\". Afterwards uncheck \"Setup and Configuration\".\n",
        "\n",
        "## Working with myGPTlab\n",
        "\n",
        "## FAQ\n",
        "### Was tun, wenn kryptische Fehlermeldungen erscheinen, wie z. B. \"error: invalid group reference 11 at position 1\"?\n",
        "Den Input-Text neu anlegen bzw. konvertieren (z. b. per pandoc). Die Ursache kann Encoding sein.\n",
        "\n",
        "\n"
      ],
      "metadata": {
        "id": "Ht3Wkxk7Rpn_"
      }
    },
    {
      "cell_type": "markdown",
      "source": [
        "Here we go"
      ],
      "metadata": {
        "id": "v1Tk6QX28RZN"
      }
    },
    {
      "cell_type": "code",
      "source": [
        "# @title\n",
        "import os\n",
        "import requests\n",
        "# os.environ.pop('CREDS') # delete environment variable for debugging\n",
        "if not os.getenv('CREDS'):\n",
        "  #popup('Enter API Keys as JSON:')\n",
        "  fname = 'aknip-colab-setup'\n",
        "  url = 'https://bit.ly/' + fname\n",
        "  r = requests.get(url)\n",
        "  open(fname, 'wb').write(r.content)\n",
        "  %run aknip-colab-setup\n",
        "else:\n",
        "  print(\"API Keys available in env 'CREDS'\")\n",
        "\n",
        "!pip install ipywidgets -q"
      ],
      "metadata": {
        "cellView": "form",
        "id": "VDc8hEXF1Zra"
      },
      "execution_count": null,
      "outputs": []
    },
    {
      "cell_type": "code",
      "source": [
        "# @title\n",
        "import ipywidgets\n",
        "from ipywidgets import Layout, Button, Box, VBox, HTML, Output, Textarea\n",
        "\n",
        "# Info flex proportionally to the weight\n",
        "info_1 = HTML(value='<div style=\"background-color: red; text-align: center\"><b>Please wait for initial setup...</b></div>', layout=Layout(flex='1 1 auto', width='auto'))\n",
        "items_info = [info_1]\n",
        "\n",
        "# Header flex proportionally to the weight\n",
        "header_1 = HTML(value='<div style=\"background-color: #ccc; text-align: center\">Hello <b>World</b></div>', layout=Layout(flex='1 1 auto', width='auto'))\n",
        "items_header = [header_1]\n",
        "\n",
        "# Text flex proportionally to the weight\n",
        "text_1 = HTML(value='Infotext', layout=Layout(flex='1 1 auto', width='25%'))\n",
        "text_2 = HTML(value='Infotext jdskl fjkdslf jsdklfjslf', layout=Layout(flex='1 1 auto', width='25%'))\n",
        "text_3 = HTML(value='Infotext jdskl fjkdslf jsdklfjslf', layout=Layout(flex='1 1 auto', width='25%'))\n",
        "text_4 = HTML(value='Infotext jdskl fjkdslf jsdklfjslf', layout=Layout(flex='1 1 auto', width='25%'))\n",
        "items_texts = [text_1, text_2, text_3, text_4]\n",
        "\n",
        "# Textinput flex proportionally to the weight\n",
        "input_1 = Textarea(placeholder='Enter input text', layout=Layout(flex='1 1 auto', width='25%', height='150px'), disabled=False)\n",
        "input_2 = Textarea(placeholder='Enter input text', layout=Layout(flex='1 1 auto', width='25%', height='150px'), disabled=False)\n",
        "input_3 = Textarea(placeholder='Enter input text', layout=Layout(flex='1 1 auto', width='25%', height='150px'), disabled=False)\n",
        "input_4 = Textarea(placeholder='Enter input text', layout=Layout(flex='1 1 auto', width='25%', height='150px'), disabled=False)\n",
        "items_inputs = [input_1, input_2, input_3, input_4]\n",
        "\n",
        "# Buttons flex proportionally to the weight\n",
        "button_1 = Button(description='Summarize Articles', layout=Layout(flex='1 1 0%', width='auto'), button_style='success')\n",
        "button_2 = Button(description='Save Text', layout=Layout(flex='1 1 0%', width='auto'), button_style='success')\n",
        "button_3 = Button(description='Split Text', layout=Layout(flex='1 1 0%', width='auto'), button_style='success')\n",
        "button_4 = Button(description='Chat', layout=Layout(flex='1 1 0%', width='auto'), button_style='success')\n",
        "items_buttons = [button_1, button_2, button_3, button_4]\n",
        "\n",
        "# Output flex proportionally to the weight\n",
        "output_1 = Output(layout=Layout(flex='1 1 auto', width='auto'))\n",
        "items_output = [output_1]\n",
        "\n",
        "box_layout = Layout(display='flex',\n",
        "                    flex_flow='row',\n",
        "                    align_items='stretch',\n",
        "                    width='90%')\n",
        "\n",
        "box_info = Box(children=items_info, layout=box_layout)\n",
        "box_header = Box(children=items_header, layout=box_layout)\n",
        "box_texts = Box(children=items_texts, layout=box_layout)\n",
        "box_inputs = Box(children=items_inputs, layout=box_layout)\n",
        "box_buttons = Box(children=items_buttons, layout=box_layout)\n",
        "box_output = Box(children=items_output, layout=box_layout)\n",
        "\n",
        "def on_button_1_clicked(b):\n",
        "    #with output_1:\n",
        "    comment = 'Kommentar zum Projekt...'\n",
        "    execute_project('Handelsblatt', 'gpt-4', promptlib_global, 'summary-multiple-articles', '1', 'length-max-dyn', 5, '' ,True, folders, input_1.value, comment)\n",
        "button_1.on_click(on_button_1_clicked)\n",
        "\n",
        "def on_button_2_clicked(b):\n",
        "    output_1.clear_output()\n",
        "\n",
        "button_2.on_click(on_button_2_clicked)\n",
        "\n",
        "#button_1.layout.visibility = \"hidden\"\n",
        "#button_2.layout.visibility = \"hidden\"\n",
        "#button_3.layout.visibility = \"hidden\"\n",
        "#button_4.layout.visibility = \"hidden\"\n",
        "\n",
        "VBox([box_info, box_header, box_texts, box_inputs, box_buttons, box_output])\n"
      ],
      "metadata": {
        "cellView": "form",
        "id": "IwvcO7XF5j5f"
      },
      "execution_count": null,
      "outputs": []
    },
    {
      "cell_type": "markdown",
      "source": [
        "# Install"
      ],
      "metadata": {
        "id": "vcKyPYho08Y2"
      }
    },
    {
      "cell_type": "code",
      "source": [
        "# @title Settings\n",
        "\n",
        "# @markdown Default model\n",
        "default_model = 'GPT-3.5' # @param [\"GPT-3.5\", \"GPT-4\"]\n",
        "\n",
        "# @markdown Start Gradio webapp.\n",
        "start_gradio_webapp = False # @param {type:\"boolean\"}\n",
        "\n",
        "# @markdown Initial Setup Mode for pip install, fetch credentials etc.\n",
        "initial_setup_mode = False # @param {type:\"boolean\"}\n",
        "\n",
        "# @markdown Debug Mode for extensive logging.\n",
        "debug_mode = True # @param {type:\"boolean\"}\n",
        "\n",
        "# @markdown iOS Mode to develop helper functions, no Gradio.\n",
        "# @markdown Useful for development on iOS, eg. with Carnets App\n",
        "ios_mode = False # @param {type:\"boolean\"}"
      ],
      "metadata": {
        "cellView": "form",
        "id": "9NyekTkaGU3Z"
      },
      "execution_count": null,
      "outputs": []
    },
    {
      "cell_type": "code",
      "source": [
        "folders = {\n",
        "    'audio': 'audio',\n",
        "    'audio-chunks': 'audio/chunks',\n",
        "    'transcript':'audio-transcript',\n",
        "    'transcript-chunks': 'audio-transcript/chunks',\n",
        "    'text-input': 'text-input',\n",
        "    'text-input-backup': 'text-input-backup',\n",
        "    'text-output': 'text-output',\n",
        "    'text-output-logs': 'text-output-logs'\n",
        "}"
      ],
      "metadata": {
        "id": "FBJns82oduIg"
      },
      "execution_count": null,
      "outputs": []
    },
    {
      "cell_type": "code",
      "source": [
        "from ipywidgets import widgets\n",
        "from IPython.display import Javascript, display, clear_output\n",
        "notify_output = widgets.Output()\n",
        "display(notify_output)\n",
        "@notify_output.capture()\n",
        "def popup(text):\n",
        "    clear_output()\n",
        "    display(Javascript(\"alert('{}')\".format(text)))\n",
        "#popup('Hello World!')"
      ],
      "metadata": {
        "id": "Z-9rgUetGeu0"
      },
      "execution_count": null,
      "outputs": []
    },
    {
      "cell_type": "code",
      "source": [
        "import os\n",
        "if initial_setup_mode != True:\n",
        "  if os.path.exists('installation.done'):\n",
        "      initial_setup_mode = False\n",
        "      print('No initial setup - forced by existing file \"installation.done\"')\n",
        "  else:\n",
        "    initial_setup_mode = True\n",
        "    print('Starting automatic setup - forced by missing file \"installation.done\".\\n\\nEnter API Keys as JSON (in next notebook cell).')\n",
        "    #popup('Starting automatic setup. Enter API Keys as JSON (in next notebook cell).')\n",
        "else:\n",
        "  print('Starting setup.\\n\\nEnter API Keys as JSON (in next notebook cell).')\n",
        "  #popup('Starting setup. Enter API Keys as JSON (in next notebook cell).')"
      ],
      "metadata": {
        "id": "4cDDPr809eC4"
      },
      "execution_count": null,
      "outputs": []
    },
    {
      "cell_type": "code",
      "source": [
        "creds = json.loads(os.getenv('CREDS'))\n",
        "# openAI_key = creds['OpenAI']['v2']['credential']\n",
        "# print(openAI_key)"
      ],
      "metadata": {
        "id": "iEwJ4-ShAt0v"
      },
      "execution_count": null,
      "outputs": []
    },
    {
      "cell_type": "code",
      "execution_count": null,
      "metadata": {
        "id": "Wtw0CARBQhTQ"
      },
      "outputs": [],
      "source": [
        "if initial_setup_mode == True:\n",
        "  !pip install openai==0.27.7 yt-dlp==2023.7.6 librosa==0.10.0.post2 pickle-mixin==1.0.2 langchain==0.0.225 PyPDF2==3.0.1 PyMuPDF==1.22.5 pypandoc==1.11 gradio -q\n",
        "  %load_ext gradio\n",
        "else:\n",
        "  print('No initial setup.')\n"
      ]
    },
    {
      "cell_type": "code",
      "source": [
        "if initial_setup_mode == True:\n",
        "  f= open('installation.done','w+')\n",
        "  f.close()\n",
        "  print('Initial setup done. Application starting.')\n",
        "  # popup('Initial setup done. Application starting.')\n",
        "else:\n",
        "  print('No initial setup.')"
      ],
      "metadata": {
        "id": "l0Lx1eHL9Nik"
      },
      "execution_count": null,
      "outputs": []
    },
    {
      "cell_type": "markdown",
      "source": [
        "# Promptlib"
      ],
      "metadata": {
        "id": "lKcS3L5pXA06"
      }
    },
    {
      "cell_type": "code",
      "source": [
        "# here was promptlib\n",
        "#def import_promptlib():\n",
        "#  import os\n",
        "#  import requests\n",
        "#  fname = 'promptlib.ipynb'\n",
        "#  url = 'https://raw.githubusercontent.com/aknip/Streamlit-Gradio/main/' + fname\n",
        "#  r = requests.get(url)\n",
        "#  open(fname, 'wb').write(r.content)\n",
        "#  %run promptlib.ipynb\n",
        "#import_promptlib()"
      ],
      "metadata": {
        "id": "YeJ8c1TVTDSb"
      },
      "execution_count": null,
      "outputs": []
    },
    {
      "cell_type": "markdown",
      "source": [
        "# Code"
      ],
      "metadata": {
        "id": "iTR550hbTvzd"
      }
    },
    {
      "cell_type": "code",
      "source": [
        "import requests\n",
        "\n",
        "def import_prompt_lib():\n",
        "  fname = 'prompt_lib.ipynb'\n",
        "  url = 'https://raw.githubusercontent.com/aknip/Streamlit-Gradio/main/' + fname\n",
        "  r = requests.get(url)\n",
        "  open(fname, 'wb').write(r.content)\n",
        "  %run prompt_lib.ipynb\n",
        "\n",
        "def import_helper_lib():\n",
        "  fname = 'helper_lib.ipynb'\n",
        "  url = 'https://raw.githubusercontent.com/aknip/Streamlit-Gradio/main/' + fname\n",
        "  r = requests.get(url)\n",
        "  open(fname, 'wb').write(r.content)\n",
        "  %run helper_lib.ipynb"
      ],
      "metadata": {
        "id": "GEUDe8zCj17s"
      },
      "execution_count": null,
      "outputs": []
    },
    {
      "cell_type": "code",
      "source": [
        "import_helper_lib()"
      ],
      "metadata": {
        "id": "HD6BlP4FjB4p"
      },
      "execution_count": null,
      "outputs": []
    },
    {
      "cell_type": "code",
      "source": [],
      "metadata": {
        "id": "dydmkY6_SZeG"
      },
      "execution_count": null,
      "outputs": []
    },
    {
      "cell_type": "code",
      "source": [
        "import_prompt_lib()\n",
        "print(promptlib_global)\n",
        "print(testfunc(3,4))"
      ],
      "metadata": {
        "id": "CGQ46eH6aeun"
      },
      "execution_count": null,
      "outputs": []
    },
    {
      "cell_type": "code",
      "source": [],
      "metadata": {
        "id": "VD9mE55Zkl--"
      },
      "execution_count": null,
      "outputs": []
    },
    {
      "cell_type": "code",
      "source": [
        "# @title\n",
        "test_text1 = 'Die Photosynthese ist ein physiologischer Prozess zur Erzeugung energiereicher Biomoleküle aus energieärmeren Stoffen mit Hilfe\\\n",
        "  von Lichtenergie. Sie wird von Pflanzen, Algen und manchen Bakterien betrieben. Bei diesem biochemischen Vorgang wird Lichtenergie mit Hilfe\\\n",
        "  von lichtabsorbierenden Farbstoffen wie Chlorophyll in chemische Energie umgewandelt. Diese wird dann genutzt, um aus energiearmen\\\n",
        "  anorganischen Stoffen (vor allem Kohlenstoffdioxid (CO2) und Wasser (H2O)) energiereiche organische Verbindungen (vor allem Kohlenhydrate)\\\n",
        "  aufzubauen. Der genutzte Anteil der eingestrahlten Energie, nämlich der zum Aufbau der Assimilate verwendete Anteil, wird photosynthetische\\\n",
        "  Effizienz genannt. Soweit die energiereichen organischen Stoffe zu Bestandteilen des Lebewesens werden, bezeichnet man deren Synthese als\\\n",
        "  Assimilation. Man unterscheidet zwischen oxygener und anoxygener Photosynthese. Bei der oxygenen Photosynthese wird molekularer\\\n",
        "  Sauerstoff (O2) freigesetzt. Bei der anoxygenen Photosynthese, die nur von Bakterien betrieben wird, entstehen statt Sauerstoff andere\\\n",
        "  anorganische Stoffe, beispielsweise elementarer Schwefel (S). Die Photosynthese ist der einzige biochemische Prozess, bei dem\\\n",
        "  Lichtenergie, meistens Sonnenlicht, in chemisch gebundene Energie umgewandelt wird (Phototrophie). Indirekt sind auch fast alle\\\n",
        "  heterotrophen (nicht zur Photosynthese fähigen) Lebewesen von ihr abhängig, da sie der Photosynthese letztlich ihre Nahrung und auch\\\n",
        "  den zur Energiegewinnung mittels aerober Atmung benötigten Sauerstoff verdanken. Aus dem Sauerstoff entsteht außerdem die schützende\\\n",
        "  Ozonschicht der Erdatmosphäre.'\n",
        "test_text2 = f'''\n",
        "# The Potential of AI in Education\n",
        "\n",
        "So, anyone who's been paying attention for the last few months has been seeing headlines like this, especially in education. The thesis has been students are going to be using chat GPT and other forms of AI to cheat, do their assignments, they're not going to learn, and it's going to completely undermine education as we know it.\n",
        "\n",
        "Now what I'm going to argue today is not only are there ways to mitigate all of that, if we put the right guardrails, we do the right things, we can mitigate it, but I think we're at the cusp of using AI for probably the biggest positive transformation that education has ever seen. And the way we're going to do that is by giving every student on the planet an artificially intelligent but amazing personal tutor, and we're going to give every teacher on the planet an amazing, artificially intelligent teaching assistant.  And just to appreciate how big of a deal it would be to give everyone a personal tutor, I show you this clip from Benjamin Bloom's 1984 two-sigma study, or he called it the two-sigma problem.\n",
        "\n",
        "The two-sigma comes from two standard deviations, sigma the symbol for standard deviation, and he had good data that showed that, look, a normal distribution, that's the one that you see in the traditional bell curve right in the middle, that's how the world kind of sorts itself out, that if you were to give personal one-to-one tutoring for students, that you could actually get a distribution that looks like that right, it says tutorial one-to-one with the asterisks, like that right distribution, a two standard deviation improvement. Just to put that in plain language, that could take your average student and turn them into an exceptional student, it can take your below average student and turn them into an above average student.\n",
        "\n",
        "# The Challenge of Scaling Personalized Instruction\n",
        "\n",
        "Now, the reason why he framed it as a problem was he said, well, this is all good, but how do you actually scale group instruction this way? How do you actually give it to everyone in an economic way? What I'm about to show you is, I think, the first moves towards doing that. Obviously, we've been trying to approximate it in some way at Khan Academy for over a decade now, but I think we're at the cusp of accelerating it dramatically.  I'm going to show you the early stages of what RAI, which we call Khan Migo, what it can now do, and maybe a little bit of where it is actually going.  This right over here is a traditional exercise that you or many of your children might have seen on Khan Academy, but what's new is that little bot thing at the right, and we'll start by seeing one of the very important safeguards, which is the conversation is recorded and viewable by your teacher.  It's moderated, actually, by a second AI, and also, it does not tell you the answer.  It is not a cheating tool.  Notice, when the student says, tell me the answer, it says, I'm your tutor.\n",
        "\n",
        "What do you think is the next step for solving the problem? Now, if the student makes a mistake, and this will surprise people who think large language models are not good at mathematics, notice not only does it notice the mistake, it asks the student to explain their reasoning, but it's actually doing what I would say not just even an average tutor would do, but an excellent tutor would do. It's actually able to divine what is probably the misconception in that student's mind, that they probably didn't use the distributive properly.  Remember, we need to distribute the negative two to both the nine and the 2M inside of the parentheses.  This to me is a very, very, very big deal, and it's not just in math.  This is a computer programming exercise on Khan Academy where the student needs to make the clouds part, and so we can see the student starts defining a variable, left X minus minus.\n",
        "\n",
        "# AI as a Super Tutor\n",
        "\n",
        "It only made the left cloud part, but then they can ask a con amigo, what's going on? Why is only the left cloud moving? And it understands the code. It knows all the context of what the student is doing, and it understands that those ellipses are there to draw clouds, which I think is kind of mind-blowing, and it says, to make the right cloud move as well, try adding a line of code inside the draw function that increments the right X variable by one pixel in each frame.  Now, this one is maybe even more amazing, because we have a lot of math teachers.  We've all been trying to teach the world to code, but there aren't a lot of computing teachers out there, and what you just saw, even when I'm tutoring my kids when they're learning to code, I can't help them this well, this fast.  This is really going to be a super tutor.  And it's not just exercises.  It understands what you're watching.\n",
        "\n",
        "It understands the context of your video. It can answer the age-old question, why do I need to learn this? And it asks, socratically, well, what do you care about? And let's say the student says, I want to be a professional athlete, and it says, well, learning about the size of cells, which is what this video is about, that could be really useful for understanding nutrition and how your body works, et cetera.  It can answer questions.  It can quiz you.  It can connect it to other ideas.  You can now ask as many questions of a video as you could ever dream of.  So another big shortage out there, I remember the high school I went to, the student-to-guidance counselor ratio was about 200 or 300 to 1.  A lot of the country, it's worse than that.  We can use Conmigo to give every student a guidance counselor, academic coach, career coach, life coach, which is exactly what you see right over here.  And this is all, you know, we launched this with the GPT-4 launch.  We have a few thousand people on this.  This isn't a fake demo.\n",
        "\n",
        "§§§\n",
        "\n",
        "# Conversations with Historical Figures and AI Debates\n",
        "\n",
        "This is really in action. And then there's, you know, things that I think it would have been even harder, it would have been a little science fiction to do with even a traditional tutor.  There's a student, we run an online high school with Arizona State University called Khan World School.  And we have a student who attends that online school based in India, her name is Sanvi, and she was doing a report on the Great Gatsby.  And when she was reading the Great Gatsby, Jay Gatsby keeps looking at the green light off into the distance.  And she's like, well, why does he do that? She did some web searches, and people have obviously studied this and commented about the symbolism of that, but none of it was really resonating with her.  And then she realized that she had Conmigo and that she could talk to Jay Gatsby himself.\n",
        "\n",
        "# Unlocking Learning Literature and AI Debates\n",
        "\n",
        "And so, ah, splendid choice, old sport, I am now Jay Gatsby, the enigmatic millionaire from Escott Jarrell's classic. And so why do you keep staring at the green light? Ah, the green light, old sport.  It's a symbol of my dreams and desires, you see.  It's situated at the end of Daisy Buchanan's dock, across the bay from my mansion.  I gaze at it longingly as it represents my yearning for the past and my hope to reunite with Daisy, the love of my life.  And what was cool is Sanvi had said, I had this long conversation, she called him Mr.  Gatsby.  And at the end, she actually apologized for taking his time, which I thought was very polite of her.  But you can imagine, this unlocks learning literature, learning, you can talk to historical figures, we're even probably going to add an activity, you can talk to, like, the Mississippi River.  It brings things to life in ways that really were science fiction even six months or a year ago.  Students can get into debates with the AI.  And we've got, here's the students debating whether we should cancel student debt.  The student is against canceling student debt.  And we've gotten very clear feedback.  We've started running it at Con World School and our lab school that we have, Con Lab School.  The students, the high school students especially, they're saying, this is amazing to be able to fine tune my arguments without fearing judgment.\n",
        "\n",
        "# Enhancing Language Arts with AI Writing Collaboration\n",
        "\n",
        "It makes me that much more confident to kind of go into the classroom and really participate. And we all know that Socratic dialogue debate is a great way to learn.  But frankly, it's not out there for most students.  But now it can be accessible to hopefully everyone.  A lot of the narrative, we saw that in the headlines, has been it's going to do the writing for kids.  Kids are not going to learn to write.  But we are showing that there's ways that the AI doesn't write for you.  It writes with you.  So this is a little thing.  And my eight-year-old is addicted to this.  And he's not a kid that really liked writing before.  But where, you know, you could say, I want to write a horror story.  And it says, ooh, a horror story.  How spine-tingling and thrilling.  Let's dive into the world of eerie shadows and chilling mysteries.\n",
        "\n",
        "And this is an activity where the student will write two sentences. And then the AI will write two sentences.  And so they collaborate together on a story.  The students write, Beatrice was a misunderstood ghost.  She wanted to make friends but kept scaring them by accident.  And the AI says, poor Beatrice, a lonely spirit yearning for companionship.  One day she stumbled upon an old abandoned mansion, et cetera, et cetera.  I encourage you all to, you know, hopefully one day try this.  This is surprisingly fun.  Now to even more directly hit this use case.  And what I'm about to show you, everything I showed you so far is actually already part of Calmigo.  What I'm about to show you, we haven't shown to anyone yet.\n",
        "\n",
        "# Enhancing Reading Comprehension and Writing Skills with AI\n",
        "\n",
        "This is a prototype. We hope to be able to launch it in the next few months.  But this is to directly use AI, use generative AI, to not undermine English and language arts but to actually enhance it in ways that we couldn't have even conceived of even a year ago.  This is reading comprehension.  This is the students reading Steve Jobs' famous speech at Stanford.  And then as they get to certain points, they can click on that little question.  And the AI will then, Socratically, almost like an oral exam, ask the student about things.  And the AI can highlight parts of the passage.  Why did the author use that word? What was their intent? Does it back up their argument? They can start to do stuff that, once again, we never had the capability to give everyone a tutor, everyone a writing coach, to actually dig into reading at this level.  And you could go on the other side of it.  We have a whole workflow that helps them write, helps them be a writing coach, draw an outline.  But once a student actually constructs a draft, and this is where they're constructing a draft, they can ask for feedback, once again, as you would expect from a good writing coach.  In this case, the student we'll say, let's say, does my evidence support my claim? And then the AI not only is able to give feedback, but it's able to highlight certain parts of the passage and says, you know, on this passage, this doesn't quite support your claim, but once again, Socratically says, can you tell us why? So it's pulling the student, it's making them a better writer, giving them far more feedback than they've ever been able to actually get before, and we think this is going to dramatically accelerate writing, not hurt it.\n",
        "\n",
        "§§§\n",
        "\n",
        "# Personalized Education for Teachers\n",
        "Now, everything I've talked about so far is for the student, but we think this could be equally as powerful for the teacher to drive more personalized education and, frankly, save time and energy for themselves and for their students. So this is an American history exercise on Khan Academy.  It's a question about the Spanish-American war.  And at first, it's in student mode, and if you say, tell me the answer, it's not going to tell the answer, it's going to go into tutoring mode.  But that little toggle which teachers have access to, they can turn student mode off, and then it goes into teacher mode.  And what this does is, it turns into, you could view it as a teacher's guide on steroids.  Not only can it explain the answer, it can explain how you might want to teach it.\n",
        "\n",
        "# Benefits for Teachers\n",
        "It can help prepare the teacher for that material. It can help them create lesson plans, as you can see doing right there.  It'll eventually help them create progress reports, it'll help them eventually grade.  So once again, teachers spend about half their time with this type of activity, lesson planning, all of that energy can go back to them or go back to human interactions with their actual students.  So, you know, one point I want to make, these large language models are so powerful, there's a temptation to say, well, all these people are just going to slap them onto their websites, and it kind of turns the applications themselves into commodities.  And what I've got to tell you is, I kind of thought that's one of the reasons why I didn't sleep for two weeks when I first had access to GPT-4 back in August.\n",
        "\n",
        "# Enhancing AI Tutoring\n",
        "But we quickly realized that to actually make it magical, I think it's really important to make it magical, but we quickly realized that to actually make it magical, I think what you saw with Conmigo a little bit, it didn't interact with you the way that you see chat GPT interacting, it was a little bit more magical, it was more Socratic, it was clearly much better at math than what most people are used to thinking. And the reason is there was a lot of work behind the scenes to make that happen.  And I could go through the whole list of everything we've been working on, many, many people, for over six, seven months, to make it feel magical, but perhaps the most intellectually interesting one is we realized, and this was an idea from an open AI researcher, that we could dramatically improve its ability in math and its ability in tutoring if we allowed the AI to think before it speaks.\n",
        "\n",
        "# The Future of AI and Education\n",
        "So if you're tutoring someone and you immediately just start talking before you assess their math, you might not get it right. But if you construct thoughts for yourself, and what you see on the right there is an actual AI thought, something that it generates for itself but it does not share with the student, then its accuracy went up dramatically and its ability to be a world-class tutor went up dramatically.  And you can see it's talking to itself here.  It says, the student got a different answer than I did, but do not tell them they made a mistake.  Instead, ask them to explain how they got to that step.  So I'll just finish off.\n",
        "\n",
        "# The Role of AI in Education and the Need for Positive Use Cases\n",
        "Hopefully, what I've just shown you is just half of what we are working on, and we think this is just the very tip of the iceberg of where this can actually go. And I'm pretty convinced, which I wouldn't have been even a year ago, that we, together, have a chance of addressing the two-sigma problem and turning it into a two-sigma opportunity, dramatically accelerating education as we know it.  Now, just to take a step back at a meta-level, obviously, we heard a lot today, the debates on either side.  There's folks who take a more pessimistic view of AI.  They say, this is scary, there's all these dystopian scenarios.  We maybe want to slow down.  We want to pause.  On the other side, there are the more optimistic folks who say, well, we've gone through inflection points before.\n",
        "\n",
        "We've gone through the Industrial Revolution. It was scary, but it all kind of worked out.  And what I'd argue right now is, I don't think this is like a flip of a coin or this is something where we'll just have to wait and see which way it turns out.  I think everyone here and beyond, we are active participants in this decision.  I'm pretty convinced that the first line of reasoning is actually almost a self-fulfilling prophecy, that if we act with fear and if we say, hey, we just got to stop doing this stuff, what's really going to happen is the rule followers might pause, might slow down, but the rule breakers, as Alexander mentioned, the totalitarian governments, the criminal organizations, they're only going to accelerate.\n",
        "\n",
        "And that leads to what I am pretty convinced is the dystopian state, which is the good actors have worse AIs than the bad actors. But I'll also talk to the optimist a little bit.  I don't think that means that, oh yeah, then we should just relax and just hope for the best.  That might not happen either.  I think all of us together have to fight like hell to make sure that we put the guardrails, we put in, when the problems arise, reasonable regulations, but we fight like hell for the positive use cases.  Because very close to my heart, and obviously there's many potential positive use cases, perhaps the most powerful use case, and perhaps the most poetic use case, is if AI, artificial intelligence, can be used to enhance HI, human intelligence, human potential and human purpose.  Thank you.  Thank you.  Thank you.\n",
        "'''"
      ],
      "metadata": {
        "id": "z9v5qGPi3JWQ",
        "cellView": "form"
      },
      "execution_count": null,
      "outputs": []
    },
    {
      "cell_type": "code",
      "source": [
        "\n"
      ],
      "metadata": {
        "id": "owpR0O6MTAEz"
      },
      "execution_count": null,
      "outputs": []
    },
    {
      "cell_type": "markdown",
      "source": [
        "# Gradio App"
      ],
      "metadata": {
        "id": "g89pWgpuUQI3"
      }
    },
    {
      "cell_type": "code",
      "source": [
        "if (ios_mode == False) and (start_gradio_webapp == True):\n",
        "  import gradio as gr\n",
        "\n",
        "  # Theming\n",
        "  theme = gr.themes.Default(\n",
        "      primary_hue=\"slate\" # , radius_size=gr.themes.Size(radius_sm=\"3px\", radius_xs=\"2px\", radius_xxs=\"1px\")\n",
        "  )\n",
        "  # Styling: Change max width\n",
        "  css = \"\"\"\n",
        "    .gradio-container {max-width: 700px!important}\n",
        "    .vspacer1 {margin-top: 50px}\n",
        "  \"\"\"\n",
        "\n",
        "  with gr.Blocks(theme=theme, css=css) as demo:\n",
        "\n",
        "      gr.Markdown(\"# ChatGPTLab 2.0\", elem_classes=\"vspacer1\")\n",
        "      gr.Markdown(\"### Optimizing your work with LLMs.\")\n",
        "\n",
        "      project_name = gr.Textbox(label=\"Project name\")\n",
        "\n",
        "      #\n",
        "      # 1. Input Text\n",
        "      #\n",
        "      with gr.Tab(\"Input Text \"):\n",
        "        gr.Markdown(\"Please enter text\")\n",
        "\n",
        "        # Input text via UI\n",
        "        gr.Markdown(\"### Input your text:\")\n",
        "        text_input = gr.Textbox(label=\"Enter text\", placeholder=\"Your text here...\", lines=10)\n",
        "        text_output = gr.Textbox(label=\"Result\")\n",
        "\n",
        "        def text_save(text, proj_name):\n",
        "          create_file_directory(proj_name, False)\n",
        "          create_file_directory(proj_name + '/' +  folders['text-input'], False)\n",
        "          f= open(proj_name + '/' +  folders['text-input'] + '/input_text.txt','w+')\n",
        "          f.write(text)\n",
        "          f.close()\n",
        "          log_text = \"Text saved.\"\n",
        "          return log_text\n",
        "        text_button = gr.Button(\"Save text\")\n",
        "        text_button.click(text_save, [text_input, project_name], text_output)\n",
        "\n",
        "        gr.Markdown(\"\")\n",
        "        gr.Markdown(\"\")\n",
        "\n",
        "        # Input text via upload\n",
        "        gr.Markdown(\"### Or upload your text:\")\n",
        "        upload_button = gr.UploadButton(\"Click to Upload a File\", file_types=[\".txt\",\".md\"], file_count=\"single\")\n",
        "        file_output = gr.Textbox(label=\"Result\")\n",
        "\n",
        "        def upload_file(my_file, proj_name):\n",
        "          create_file_directory(proj_name, False)\n",
        "          create_file_directory(proj_name + '/' +  folders['text-input'], False)\n",
        "          # copy to project directory\n",
        "          full_upload_path = my_file.name\n",
        "          just_the_filename = os.path.basename(full_upload_path)\n",
        "          full_text_path = \"./\" + proj_name + '/' + folders['text-input'] + '/' + just_the_filename\n",
        "          shutil.copyfile(full_upload_path, full_text_path)\n",
        "          # check if file is empty\n",
        "          f= open(full_text_path,'r')\n",
        "          if f.mode == 'r': contents =f.read()\n",
        "          f.close()\n",
        "          log_text = just_the_filename + \"\\n\"\n",
        "          if len(contents) == 0:\n",
        "            log_text = log_text + \"Error: Upload file lengt 0 bytes\"\n",
        "          else:\n",
        "            log_text = log_text + \"Upload successful\"\n",
        "          return log_text\n",
        "        upload_button.upload(upload_file, [upload_button, project_name], file_output)\n",
        "\n",
        "      #\n",
        "      # 2. Download full project\n",
        "      #\n",
        "      with gr.Tab(\"Download\"):\n",
        "        gr.Markdown(\"Download full project as ZIP file.\")\n",
        "        download_button = gr.Button(\"Download project\")\n",
        "        download_output = gr.File()\n",
        "\n",
        "        def download_do(proj_name):\n",
        "          full_text_path = \"./\" + proj_name\n",
        "          shutil.make_archive('archive', 'zip', full_text_path)\n",
        "          result = \"Downloading \" + full_text_path\n",
        "          return \"archive.zip\"\n",
        "        download_button.click(download_do, project_name, download_output)\n",
        "\n",
        "      #\n",
        "      # 3. xxx\n",
        "      #\n",
        "      with gr.Tab(\"Step 2\"):\n",
        "        gr.Markdown(\"Please select the optimization:\")\n",
        "        radio = gr.Radio(\n",
        "          [\"by headline\", \"by paragraph\", \"by §§§\"], label=\"Text split method\"\n",
        "        )\n",
        "        name = gr.Textbox(label=\"Name\", placeholder=\"Enter text...\")\n",
        "        output = gr.Textbox(label=\"Output Box\")\n",
        "        greet_btn = gr.Button(\"Start\", scale=0)\n",
        "        def greet(name):\n",
        "          result = \"HALLO \" + name + \"!!!\"\n",
        "          return result\n",
        "        greet_btn.click(fn=greet, inputs=name, outputs=output, api_name=\"greet\")\n",
        "\n",
        "  demo.launch(quiet=True, share=True, debug=debug_mode)\n",
        "\n",
        "else:\n",
        "  print('iOS Mode - Nothing to do.')"
      ],
      "metadata": {
        "id": "ShdVRDZIUR7k"
      },
      "execution_count": null,
      "outputs": []
    },
    {
      "cell_type": "markdown",
      "source": [
        "# Test GPT"
      ],
      "metadata": {
        "id": "f34XuANJ6vIf"
      }
    },
    {
      "cell_type": "code",
      "source": [
        "tmp = split_text_by_separator(test_text1, '\\n', '\\n', 'fix-nothing', 200)\n",
        "print(text_stats(test_text1))\n",
        "print(len(tmp))"
      ],
      "metadata": {
        "id": "RlmHqVJijfXY"
      },
      "execution_count": null,
      "outputs": []
    },
    {
      "cell_type": "code",
      "source": [
        "# test promptlib and templates\n",
        "\n",
        "import textwrap\n",
        "\n",
        "prompt_obj = get_prompt_from_lib(promptlib_global, 'summary-bullets', '1')\n",
        "# prompt_obj = get_prompt_from_lib(promptlib_global, 'summary-bullets', '1')\n",
        "print(json.dumps(prompt_obj, sort_keys=True, indent=2))\n",
        "\n",
        "input_text = 'This is the input text. Lorem ipsum.'\n",
        "\n",
        "prompt_txt_final1 = build_prompt_from_template(input_text, prompt_obj, 'lang-de', 'length-max-dyn', 0.5, 'toc')\n",
        "prompt_txt_final2 = build_prompt_from_template(input_text, prompt_obj, 'lang-de', 'length-max-fix', 0, '')\n",
        "prompt_txt_final3 = build_prompt_from_template(input_text, prompt_obj, 'lang-de', '', 0, '')\n",
        "print(textwrap.fill(prompt_txt_final1, 120))\n",
        "\n",
        "#write_prompt_to_lib(prompt_obj)\n",
        "\n",
        "#print(json.dumps(promptlib, sort_keys=True, indent=2))\n",
        "\n",
        "# myprompt = \"The given text is delimited by triple backticks. Summarize the current text to succint and clear bullet points of its contents.\n",
        "#          The length of the summary must be 200 words maximum.\"\n",
        "# myprompt = \"The given text is delimited by triple backticks.\n",
        "#           Summarize the current text to a maximum of 15 succint and clear bullet points of its contents.\"\n",
        "# myprompt = myprompt + \"The maximum number of words should be 300 words in total. \"\n",
        "# myprompt = myprompt + \"Write everything in German language. \" # this is optional !\n",
        "# myprompt = myprompt + \"```\" + input_text + \"```\""
      ],
      "metadata": {
        "id": "OsYX9xQ2mjZd"
      },
      "execution_count": null,
      "outputs": []
    },
    {
      "cell_type": "code",
      "source": [
        "info_1.layout.visibility = \"hidden\"\n",
        "info_1.close()\n",
        "del info_1\n",
        "button_1.layout.visibility = \"visible\"\n",
        "button_2.layout.visibility = \"visible\"\n",
        "button_3.layout.visibility = \"visible\"\n",
        "button_4.layout.visibility = \"visible\"\n",
        "#text_1.value=\"yoyo\""
      ],
      "metadata": {
        "id": "J2HUTsPjygWN"
      },
      "execution_count": null,
      "outputs": []
    },
    {
      "cell_type": "markdown",
      "source": [
        "# Workbench"
      ],
      "metadata": {
        "id": "-75HtkuDz9eP"
      }
    },
    {
      "cell_type": "code",
      "source": [
        "proj_name = 'S4HANA'\n",
        "#create_file_directory(proj_name, True) # For dev: Initial folder structure\n",
        "#create_file_directory(proj_name + '/' + folders['text-output'], True)\n",
        "#create_file_directory(proj_name + '/' + folders['text-output-logs'], True)\n",
        "#create_test_project(proj_name, '')\n",
        "\n",
        "# Step 1\n",
        "def step_1():\n",
        "  model = 'gpt-3.5-turbo'\n",
        "  prompt_name = 'summary-shortened'\n",
        "  prompt_version = '1'\n",
        "  prompt_comment = 'TODO: HIER EINE NOTIZ. HIER EINE NOTIZ. HIER EINE NOTIZ. HIER EINE NOTIZ.'\n",
        "  prompt_obj = get_prompt_from_lib(promptlib_global, prompt_name, model, prompt_version)\n",
        "  #print(json.dumps(prompt_obj, sort_keys=False, indent=2))\n",
        "  result_file = execute_prompt({\n",
        "      'model': model,\n",
        "      'prompt-name': prompt_name,\n",
        "      'prompt-version': prompt_version,\n",
        "      'prompt-comment': prompt_comment,\n",
        "      'loglevel': 0,\n",
        "      'stop-after-step': 1,\n",
        "      'proj-name': proj_name,\n",
        "      'input-filepath': '', #'text-output',\n",
        "      'input-filename': '', #'paraphrased.txt',\n",
        "      'folders': folders,\n",
        "      'prompt-obj': prompt_obj,\n",
        "      'language': 'lang-de',\n",
        "      'length-type': 'length-max-dyn',\n",
        "      'length-max': 0.5,\n",
        "      'toc-text': '',\n",
        "      'result-filename': '01-paraphr-short.md'\n",
        "  })\n",
        "  print(result_file)\n",
        "  a, b = result_file\n",
        "  print(a)\n",
        "  print(b)\n",
        "\n",
        "# Step 2\n",
        "def step_2():\n",
        "  model = 'gpt-3.5-turbo'\n",
        "  prompt_name = 'create-subheadlines'\n",
        "  prompt_version = '1'\n",
        "  prompt_obj = get_prompt_from_lib(promptlib_work, prompt_name, model, prompt_version)\n",
        "  #print(json.dumps(prompt_obj, sort_keys=False, indent=2))\n",
        "  result_file = execute_prompt({\n",
        "      'model': model,\n",
        "      'prompt-name': prompt_name,\n",
        "      'prompt-version': prompt_version,\n",
        "      'loglevel': 0,\n",
        "      'stop-after-step': 3,\n",
        "      'proj-name': proj_name,\n",
        "      'input-filepath': 'text-output',\n",
        "      'input-filename': '01-paraphr-short_gpt-3.md',\n",
        "      'folders': folders,\n",
        "      'prompt-obj': prompt_obj,\n",
        "      'language': 'lang-same',\n",
        "      'length-type': '',\n",
        "      'length-max': 0,\n",
        "      'toc-text': '',\n",
        "      'result-filename': '01-paraphr-short-headlines.md'\n",
        "  })\n",
        "\n",
        "# Step 3\n",
        "def step_3():\n",
        "  model = 'gpt-3.5-turbo'\n",
        "  prompt_name = 'summary-shortened'\n",
        "  prompt_version = '1'\n",
        "  prompt_obj = get_prompt_from_lib(promptlib_work, prompt_name, model, prompt_version)\n",
        "  #print(json.dumps(prompt_obj, sort_keys=False, indent=2))\n",
        "  result_file = execute_prompt({\n",
        "      'model': model,\n",
        "      'prompt-name': prompt_name,\n",
        "      'prompt-version': prompt_version,\n",
        "      'loglevel': 0,\n",
        "      'stop-after-step': 3,\n",
        "      'proj-name': proj_name,\n",
        "      'input-filepath': 'text-output',\n",
        "      'input-filename': '01-paraphr-short-headlines_gpt-3.md',\n",
        "      'folders': folders,\n",
        "      'prompt-obj': prompt_obj,\n",
        "      'language': 'lang-de',\n",
        "      'length-type': 'length-max-dyn',\n",
        "      'length-max': 0.5,\n",
        "      'toc-text': '',\n",
        "      'result-filename': '02-paraphr-short.md'\n",
        "  })\n",
        "\n",
        "#step_1()\n",
        "#step_2()\n",
        "#step_3()\n",
        "\n",
        "# Idea: chain by returning filename of last file => can be input for next"
      ],
      "metadata": {
        "id": "xC1LzpVwasQr"
      },
      "execution_count": null,
      "outputs": []
    },
    {
      "cell_type": "code",
      "source": [
        "notiz = {\n",
        "  \"prompt\": \"I want you to act as a very proficient SEO and high-end. I want you to pretend that you can write content so well that it can\\\n",
        "   outrank other websites. All output must be 100% human writing style and fix grammar issues and change to active voice. Your task is to\\\n",
        "   write an article starting with SEO Title with a bold letter and rewrite the content and include subheadings using related keywords.\\\n",
        "   Write in the style and tone of a professional IT magazine for software experts. Write every sentence in your very own words and do not\\\n",
        "   only rephrase the given content. The article must be 100% unique and remove plagiarism. Do not write a summary or conclusions in the\\\n",
        "  last paragraph. Avoid lists. Include subheadings. {language_text} {length_text} Text:```{input_text}```\"\n",
        "}"
      ],
      "metadata": {
        "id": "L-0jGjPwCAVW"
      },
      "execution_count": null,
      "outputs": []
    },
    {
      "cell_type": "code",
      "source": [
        "proj_name = 'Handelsblatt'\n",
        "#create_file_directory(proj_name + '/' + folders['text-output'], True)\n",
        "#create_file_directory(proj_name + '/' + folders['text-output-logs'], True)\n",
        "#create_test_project(proj_name, '')\n",
        "\n",
        "\n",
        "# Step 1\n",
        "def step_1():\n",
        "  model = 'gpt-4'\n",
        "  prompt_obj = get_prompt_from_lib(promptlib_work, 'summary-multiple-articles', model, '1')\n",
        "  #print(json.dumps(prompt_obj, sort_keys=False, indent=2))\n",
        "  result_text = execute_prompt({\n",
        "      'model': model,\n",
        "      'loglevel': 0,\n",
        "      'stop-after-step': 0,\n",
        "      'proj-name': proj_name,\n",
        "      'input-filepath': '', #'text-output',\n",
        "      'input-filename': '', #'paraphrased.txt',\n",
        "      'folders': folders,\n",
        "      'prompt-obj': prompt_obj,\n",
        "      'language': 'lang-de',\n",
        "      'length-type': '',\n",
        "      'length-max': 0,\n",
        "      'toc-text': '',\n",
        "      'result-filename': '01-paraphr-short.md'\n",
        "  })\n",
        "\n",
        "#step_1()"
      ],
      "metadata": {
        "id": "No_0zjVjHkkT"
      },
      "execution_count": null,
      "outputs": []
    },
    {
      "cell_type": "markdown",
      "source": [
        "# Quick Action"
      ],
      "metadata": {
        "id": "ioFOFSZWAQBN"
      }
    },
    {
      "cell_type": "code",
      "source": [
        "#import_promptlib() # during dev: update promptlib from promptlib.ipynb\n",
        "my_input_text = widgets.Textarea(placeholder='Enter input text', layout=Layout(width='50%', height='150px'), disabled=False)\n",
        "button = widgets.Button(description=\"Summarize!\")\n",
        "def on_button_clicked(b):\n",
        "  comment = 'Kommentar zum Projekt...'\n",
        "  execute_project('quick-action', 'gpt-3.5-turbo', promptlib_global, 'summary-shortened', '1', 'length-max-dyn', 5, '' ,True, folders, my_input_text.value, comment)\n",
        "button.on_click(on_button_clicked)\n",
        "display(my_input_text, button)"
      ],
      "metadata": {
        "id": "8zhMIX90AUlW"
      },
      "execution_count": null,
      "outputs": []
    },
    {
      "cell_type": "markdown",
      "source": [],
      "metadata": {
        "id": "t508EftHM4U2"
      }
    },
    {
      "cell_type": "markdown",
      "source": [
        "# Current Work / Test"
      ],
      "metadata": {
        "id": "0GpudYkTcdAG"
      }
    },
    {
      "cell_type": "code",
      "source": [
        "promptlib_global['summary-shortened-same-tone'] = {\n",
        "      'description': 'Abgeleitet aus \"summary-shortened\"',\n",
        "      'category': 'summarize',\n",
        "      '1': {\n",
        "          'note': 'Summary without changing the tone',\n",
        "          \"prompt\": \"Paraphrase the following text and shorten each paragraph of the paraphrased text to maxiumum the half of its original length by focussing\\\n",
        "            on the key aspects. Write in the same style and tone as the given text. Be detailed and precise\\\n",
        "            and use every content detail of the text. {language_text} {length_text} Text:```{input_text}```\",\n",
        "          \"lang-de\": \"Write everything in German language.\",\n",
        "          \"lang-en\": \"Write everything in English language.\",\n",
        "          \"lang-same\": \"If the following text in triple backticks is in German language write your text in German language, too.\",\n",
        "          'gpt-3.5-turbo': {\n",
        "              \"input-text-max\": 1200,\n",
        "              \"length-max-fix\": \"The length of the full text must be 1200 words maximum.\",\n",
        "              \"length-max-dyn\": \"The length of the full text must be {{length_calc(\\\"{input_text}\\\", {max_len})}} words maximum.\"\n",
        "          },\n",
        "          'gpt-4': {\n",
        "              \"input-text-max\": 2400,\n",
        "              \"length-max-fix\": \"The length of the full text must be 2400 words maximum.\",\n",
        "              \"length-max-dyn\": \"The length of the full text must be {{length_calc(\\\"{input_text}\\\", {max_len})}} words maximum.\"\n",
        "          }\n",
        "      }\n",
        "    }\n",
        "text_from_file = \"<File:>\"\n",
        "comment = 'Kommentar zum Projekt...'\n",
        "# execute_project('S4HANA', 'gpt-4', promptlib_global, 'summary-shortened-same-tone', '1', 'length-max-dyn', 0, '', True, folders, text_from_file, comment)"
      ],
      "metadata": {
        "id": "SyjjeU56chJK"
      },
      "execution_count": null,
      "outputs": []
    },
    {
      "cell_type": "markdown",
      "source": [],
      "metadata": {
        "id": "4FuTcPBgxhn1"
      }
    },
    {
      "cell_type": "markdown",
      "source": [
        "Todo:\n",
        "- Markdown Konvertierung wenn docx\n",
        "- Chaining (ausgabefile)\n",
        "- Artikel schreiben TOC, danach Kapitel"
      ],
      "metadata": {
        "id": "0gKN4n33a3Rz"
      }
    },
    {
      "cell_type": "code",
      "source": [
        "comment = 'Kommentar zum Projekt...'\n",
        "#execute_project('Handelsblatt Fr', 'gpt-4', promptlib_global, 'summary-multiple-articles', '1', 'length-max-dyn', 5, '' ,True, folders, '<File:>', comment)"
      ],
      "metadata": {
        "id": "pWfQO90TmCEd"
      },
      "execution_count": null,
      "outputs": []
    },
    {
      "cell_type": "code",
      "source": [
        "promptlib_global['article-create-toc'] = {\n",
        "      'description': '',\n",
        "      'category': 'create-article',\n",
        "      '1': {\n",
        "          'note': 'Step 1: Create TOC',\n",
        "          \"prompt\": \"Here is some context for an article. The context is marked with 'Text:' and delimited by triple backticks. \\\n",
        "            Create a table of contents for an article titled 'Der Wert von Geschriebenem in Zeiten von Chat-GPT'. {language_text} {length_text} Text:```{input_text}``` {toc_text}\",\n",
        "          \"lang-de\": \"Write everything in German language.\",\n",
        "          \"lang-en\": \"Write everything in English language.\",\n",
        "          \"lang-same\": \"If the following text in triple backticks is in German language write your text in German language, too.\",\n",
        "          'gpt-3.5-turbo': {\n",
        "              \"input-text-max\": 1200,\n",
        "              \"length-max-fix\": \"The length of the full text must be 1200 words maximum.\",\n",
        "              \"length-max-dyn\": \"The length of the full text must be {{length_calc(\\\"{input_text}\\\", {max_len})}} words maximum.\"\n",
        "          },\n",
        "          'gpt-4': {\n",
        "              \"input-text-max\": 2400,\n",
        "              \"length-max-fix\": \"The length of the full text must be 2400 words maximum.\",\n",
        "              \"length-max-dyn\": \"The length of the full text must be {{length_calc(\\\"{input_text}\\\", {max_len})}} words maximum.\"\n",
        "          },\n",
        "          'default-model': {\n",
        "              \"input-text-max\": 2400,\n",
        "              \"length-max-fix\": \"The length of the full text must be 2400 words maximum.\",\n",
        "              \"length-max-dyn\": \"The length of the full text must be {{length_calc(\\\"{input_text}\\\", {max_len})}} words maximum.\"\n",
        "          }\n",
        "      }\n",
        "    }\n",
        "promptlib_global['article-create-chapter'] = {\n",
        "      'description': '',\n",
        "      'category': 'create-article',\n",
        "      '1': {\n",
        "          'note': 'Step 2: Create first chapter',\n",
        "          \"prompt\": \"Here is some context for an article titled 'Der Wert von Geschriebenem in Zeiten von Chat-GPT'. The context is marked with 'Text:' and delimited by triple backticks. \\\n",
        "            The table of contents is marked with 'TOC:' and delimited by triple backticks.\\\n",
        "            Write chapter 1 with a length of 500 words. {language_text} {length_text} Text:```{input_text}``` {toc_text}\",\n",
        "          \"lang-de\": \"Write everything in German language.\",\n",
        "          \"lang-en\": \"Write everything in English language.\",\n",
        "          \"lang-same\": \"If the following text in triple backticks is in German language write your text in German language, too.\",\n",
        "          'gpt-3.5-turbo': {\n",
        "              \"input-text-max\": 1200,\n",
        "              \"length-max-fix\": \"The length of the full text must be 1200 words maximum.\",\n",
        "              \"length-max-dyn\": \"The length of the full text must be {{length_calc(\\\"{input_text}\\\", {max_len})}} words maximum.\"\n",
        "          },\n",
        "          'gpt-4': {\n",
        "              \"input-text-max\": 2400,\n",
        "              \"length-max-fix\": \"The length of the full text must be 2400 words maximum.\",\n",
        "              \"length-max-dyn\": \"The length of the full text must be {{length_calc(\\\"{input_text}\\\", {max_len})}} words maximum.\"\n",
        "          },\n",
        "          'default-model': {\n",
        "              \"input-text-max\": 2400,\n",
        "              \"length-max-fix\": \"The length of the full text must be 2400 words maximum.\",\n",
        "              \"length-max-dyn\": \"The length of the full text must be {{length_calc(\\\"{input_text}\\\", {max_len})}} words maximum.\"\n",
        "          }\n",
        "      }\n",
        "    }\n",
        "text_from_file = \"<File:>\"\n",
        "\n",
        "# Step 1\n",
        "comment = 'Kommentar zum Projekt...'\n",
        "#execute_project('article-future-of-text', 'gpt-4', promptlib_global, 'article-create-toc', '1', '', 0, '', True, folders, text_from_file, comment)\n",
        "\n",
        "# Step 2\n",
        "toc_text = f\"\"\"TOC: \\`\\`\\`Inhaltsverzeichnis:\n",
        "Titel: Der Wert von Geschriebenem in Zeiten von Chat-GPT\n",
        "1. Künstliche Intelligenz und ihre Auswirkungen auf die täglichen Aufgaben\n",
        "2. Die Rolle von Bots in der schriftlichen Kommunikation\n",
        "3. Verhandlungen und Diskussionen in einer von Bots dominierten Welt\n",
        "4. Die Auswirkungen von Künstlicher Intelligenz auf die Kreativität und die Wahrnehmung von Originalität\n",
        "5. Die Auswirkungen von Künstlicher Intelligenz auf die Arbeit von Autoren und die Bedeutung von Charisma\n",
        "6. Fazit: Die Zukunft von Geschriebenem in Zeiten von Chat-GPT.\n",
        "\\`\\`\\`\"\"\"\n",
        "#execute_project('article-future-of-text', 'gpt-4', promptlib_global, 'article-create-chapter', '1', '', 0, toc_text, False, folders, text_from_file, comment)\n",
        "\n",
        "\n"
      ],
      "metadata": {
        "id": "KtiPlr6jbGrw"
      },
      "execution_count": null,
      "outputs": []
    },
    {
      "cell_type": "code",
      "source": [
        "#import_prompt_lib()\n",
        "#import_helper_lib()\n",
        "#print(test_pypandoc())"
      ],
      "metadata": {
        "id": "LJQKtb0jjzSX"
      },
      "execution_count": null,
      "outputs": []
    }
  ],
  "metadata": {
    "colab": {
      "provenance": [],
      "authorship_tag": "ABX9TyO4MvKijKi0BQyisOji6pd3",
      "include_colab_link": true
    },
    "kernelspec": {
      "display_name": "Python 3",
      "name": "python3"
    },
    "language_info": {
      "name": "python"
    }
  },
  "nbformat": 4,
  "nbformat_minor": 0
}