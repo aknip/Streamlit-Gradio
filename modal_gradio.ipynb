{
  "nbformat": 4,
  "nbformat_minor": 0,
  "metadata": {
    "colab": {
      "provenance": [],
      "mount_file_id": "1GR4CBhwEVfzZHIOk6SZsCP6vFs0yjYWp",
      "authorship_tag": "ABX9TyP8JMHmV+poJQAoNkceT/D1",
      "include_colab_link": true
    },
    "kernelspec": {
      "name": "python3",
      "display_name": "Python 3"
    },
    "language_info": {
      "name": "python"
    }
  },
  "cells": [
    {
      "cell_type": "markdown",
      "metadata": {
        "id": "view-in-github",
        "colab_type": "text"
      },
      "source": [
        "<a href=\"https://colab.research.google.com/github/aknip/Streamlit-Gradio/blob/main/modal_gradio.ipynb\" target=\"_parent\"><img src=\"https://colab.research.google.com/assets/colab-badge.svg\" alt=\"Open In Colab\"/></a>"
      ]
    },
    {
      "cell_type": "markdown",
      "source": [
        "# Gradio app: Dev in Notebook, Deployment to Modal\n",
        "\n",
        "This notebook shows how to develop a Gradio app in a notebook.\n",
        "The app then can be automatically deployed to Modal.com.\n",
        "- Export Notebook to .py-file automatically (via nbdev)\n",
        "- Serve or deploy .py-file to Modal.com automatically\n",
        "\n",
        "Code blocks wich are needed for the final .py-file (for Modal.com) are marked with `#|export`\n",
        "\n",
        "Sources:  \n",
        "- https://modal.com/docs/guide/ex/vision_model_training\n",
        "- https://github.com/modal-labs/modal-examples/blob/main/06_gpu_and_ml/vision_model_training.py\n"
      ],
      "metadata": {
        "id": "u7aFXzti5Okh"
      }
    },
    {
      "cell_type": "markdown",
      "source": [],
      "metadata": {
        "id": "WH_SMPZE63vx"
      }
    },
    {
      "cell_type": "code",
      "source": [
        "import psutil\n",
        "IN_NOTEBOOK = any([\"jupyter-notebook\" in i for i in psutil.Process().parent().cmdline()])"
      ],
      "metadata": {
        "id": "HBQ9fzwbCTrr"
      },
      "execution_count": null,
      "outputs": []
    },
    {
      "cell_type": "code",
      "execution_count": null,
      "metadata": {
        "id": "uzJ0fadPQW5V"
      },
      "outputs": [],
      "source": [
        "!pip install modal nbdev fastapi gradio -q"
      ]
    },
    {
      "cell_type": "code",
      "source": [
        "import json\n",
        "import os\n",
        "from getpass import getpass\n",
        "if IN_NOTEBOOK:\n",
        "  CREDS = json.loads(getpass(\"Secrets (JSON string): \"))\n",
        "  os.environ['CREDS'] = json.dumps(CREDS)\n",
        "  CREDS = json.loads(os.getenv('CREDS'))"
      ],
      "metadata": {
        "id": "D94_wG68CccK"
      },
      "execution_count": null,
      "outputs": []
    },
    {
      "cell_type": "code",
      "source": [
        "import os\n",
        "os.environ[\"MODAL_TOKEN_ID\"] = CREDS['MODAL']['MODAL_TOKEN_ID']['credential']\n",
        "os.environ[\"MODAL_TOKEN_SECRET\"] = CREDS['MODAL']['MODAL_TOKEN_SECRET']['credential']"
      ],
      "metadata": {
        "id": "E9abYug6TRcR"
      },
      "execution_count": null,
      "outputs": []
    },
    {
      "cell_type": "markdown",
      "source": [
        "# Part 1: Modal App (init)\n",
        "\n"
      ],
      "metadata": {
        "id": "NoeifUOQ2GHu"
      }
    },
    {
      "cell_type": "code",
      "source": [
        "#|export\n",
        "\n",
        "# Modal app\n",
        "\n",
        "from modal import (\n",
        "    Stub,\n",
        "    Image,\n",
        "    asgi_app\n",
        ")\n",
        "from fastapi import FastAPI\n",
        "import gradio as gr\n",
        "from gradio.routes import mount_gradio_app\n",
        "\n",
        "stub = Stub(name=\"gradio-modal\")\n",
        "\n",
        "image = Image.debian_slim().pip_install(\n",
        "    \"gradio~=3.6\"\n",
        ")"
      ],
      "metadata": {
        "id": "DhQ9VQ1qRnvi"
      },
      "execution_count": null,
      "outputs": []
    },
    {
      "cell_type": "markdown",
      "source": [
        "# Part 2: The Gradio App (works in Notebook and in Modal)"
      ],
      "metadata": {
        "id": "yV-ta3j-6ZnM"
      }
    },
    {
      "cell_type": "code",
      "source": [
        "#|export\n",
        "\n",
        "# Gradio app\n",
        "\n",
        "def greet(name):\n",
        "    return \"Hello \" + name + \"!!!\"\n",
        "\n",
        "# variant 1: gr.Interface\n",
        "demo = gr.Interface(\n",
        "    fn=greet,\n",
        "    inputs=\"text\",\n",
        "    outputs=\"text\"\n",
        ")\n",
        "\n",
        "# variant 2: gr.Blocks\n",
        "with gr.Blocks() as demo:\n",
        "    name = gr.Textbox(label=\"Name\")\n",
        "    output = gr.Textbox(label=\"Output Box\")\n",
        "    greet_btn = gr.Button(\"Greet\")\n",
        "    greet_btn.click(fn=greet, inputs=name, outputs=output, api_name=\"greet\")"
      ],
      "metadata": {
        "id": "rDsRlP7m1-um"
      },
      "execution_count": null,
      "outputs": []
    },
    {
      "cell_type": "code",
      "source": [
        "# Start Gradio App in Notebook\n",
        "demo.launch(quiet=True, share=False, debug=True)"
      ],
      "metadata": {
        "id": "JojlY37i2kFl"
      },
      "execution_count": null,
      "outputs": []
    },
    {
      "cell_type": "markdown",
      "source": [
        "# Part 3: Modal app (main)"
      ],
      "metadata": {
        "id": "zJq9QPtv6l3F"
      }
    },
    {
      "cell_type": "code",
      "source": [
        "#|export\n",
        "\n",
        "# Modal app\n",
        "\n",
        "web_app = FastAPI()\n",
        "\n",
        "@stub.function(image=image)\n",
        "@asgi_app()\n",
        "def fastapi_app():\n",
        "\n",
        "    return mount_gradio_app(\n",
        "        app=web_app,\n",
        "        blocks=demo,\n",
        "        path=\"/\",\n",
        "    )"
      ],
      "metadata": {
        "id": "XoeoEVRO2BoJ"
      },
      "execution_count": null,
      "outputs": []
    },
    {
      "cell_type": "markdown",
      "source": [
        "# Export production file for Modal with nbdev\n",
        "\n",
        "The notebook file will be copied from Google drive to the current notebook environment.\n",
        "\n",
        "Alternative?: %notebook modal_hello_world2.ipynb"
      ],
      "metadata": {
        "id": "NRQoSKU51v6o"
      }
    },
    {
      "cell_type": "code",
      "source": [
        "# Connect Google Drive\n",
        "# This and the following cell can be skipped it the notebook file is copied manually to the current notebook environment\n",
        "from google.colab import drive\n",
        "drive.mount('/content/drive/')"
      ],
      "metadata": {
        "id": "RI3oYbrHwxtc"
      },
      "execution_count": null,
      "outputs": []
    },
    {
      "cell_type": "code",
      "source": [
        "# Copy Notebook to local path\n",
        "!cp \"/content/drive/MyDrive/Colab Notebooks/modal-gradio.ipynb\" /content/"
      ],
      "metadata": {
        "id": "KF3b5UaVyi8B"
      },
      "execution_count": null,
      "outputs": []
    },
    {
      "cell_type": "code",
      "source": [
        "# Export source code marked with #|export\n",
        "from nbdev.export import nb_export\n",
        "nb_export('/content/modal-gradio.ipynb', lib_path='.', name='gradio_modal')"
      ],
      "metadata": {
        "id": "TqPqsbyv7X5Z"
      },
      "execution_count": null,
      "outputs": []
    },
    {
      "cell_type": "markdown",
      "source": [
        "# Run in Modal"
      ],
      "metadata": {
        "id": "nKaBR3-_7qWq"
      }
    },
    {
      "cell_type": "code",
      "source": [
        "# dev server\n",
        "!modal serve gradio_modal.py"
      ],
      "metadata": {
        "id": "1X3slh4n3xGN"
      },
      "execution_count": null,
      "outputs": []
    },
    {
      "cell_type": "code",
      "source": [
        "# Deploy server permanently\n",
        "!modal deploy gradio_modal.py"
      ],
      "metadata": {
        "id": "fn2ufbIe47vc"
      },
      "execution_count": null,
      "outputs": []
    },
    {
      "cell_type": "markdown",
      "source": [
        "# Idea: Modify exported code if necessary"
      ],
      "metadata": {
        "id": "5rju_YdU36Fr"
      }
    },
    {
      "cell_type": "code",
      "source": [
        "# Optimize exported source code\n",
        "# Creates a backup file automatically\n",
        "import io\n",
        "import os\n",
        "from datetime import datetime\n",
        "\n",
        "# load\n",
        "f= open('example.py','r')\n",
        "if f.mode == 'r':\n",
        "      source_code =f.read()\n",
        "      #print(source_code)\n",
        "f.close()\n",
        "\n",
        "# modifiy code\n",
        "source_code = source_code.replace(\"#stub\", \"stub\")\n",
        "source_code = source_code.replace(\"#@stub\", \"@stub\")\n",
        "source_code = source_code + \"\\nTest\"\n",
        "\n",
        "# save\n",
        "current_date_time = datetime.now().strftime(\"_%Y-%m-%d_%H-%M-%S\")\n",
        "os.rename('example.py', 'example' + current_date_time + '.py')\n",
        "f= open('example.py','w+')\n",
        "f.write(source_code)\n",
        "f.close()"
      ],
      "metadata": {
        "id": "nZD3qkajzvUf"
      },
      "execution_count": null,
      "outputs": []
    }
  ]
}