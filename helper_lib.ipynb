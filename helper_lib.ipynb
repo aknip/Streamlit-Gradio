{
  "nbformat": 4,
  "nbformat_minor": 0,
  "metadata": {
    "colab": {
      "provenance": [],
      "authorship_tag": "ABX9TyMsaXJ0Tm++aVIxWnbu06jV",
      "include_colab_link": true
    },
    "kernelspec": {
      "name": "python3",
      "display_name": "Python 3"
    },
    "language_info": {
      "name": "python"
    }
  },
  "cells": [
    {
      "cell_type": "markdown",
      "metadata": {
        "id": "view-in-github",
        "colab_type": "text"
      },
      "source": [
        "<a href=\"https://colab.research.google.com/github/aknip/Streamlit-Gradio/blob/main/helper_lib.ipynb\" target=\"_parent\"><img src=\"https://colab.research.google.com/assets/colab-badge.svg\" alt=\"Open In Colab\"/></a>"
      ]
    },
    {
      "cell_type": "markdown",
      "source": [
        "# helper_lib"
      ],
      "metadata": {
        "id": "2oVPxUEFVZzt"
      }
    },
    {
      "cell_type": "code",
      "execution_count": null,
      "metadata": {
        "id": "nYJvtG74VWwJ"
      },
      "outputs": [],
      "source": [
        "!pip install pypandoc==1.11"
      ]
    },
    {
      "cell_type": "code",
      "source": [
        "import pypandoc\n",
        "\n",
        "def test_pypandoc():\n",
        "  output = pypandoc.convert_text('# some title', 'rst', format='md')\n",
        "  return output\n",
        "\n",
        "#print(test_pypandoc())"
      ],
      "metadata": {
        "id": "Y6YtIID7jGy6"
      },
      "execution_count": null,
      "outputs": []
    }
  ]
}