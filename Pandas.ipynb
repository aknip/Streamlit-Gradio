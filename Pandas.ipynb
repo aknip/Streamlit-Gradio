{
  "nbformat": 4,
  "nbformat_minor": 0,
  "metadata": {
    "colab": {
      "provenance": [],
      "authorship_tag": "ABX9TyNJR9s18PSQwofwcMSrx7wh",
      "include_colab_link": true
    },
    "kernelspec": {
      "name": "python3",
      "display_name": "Python 3"
    },
    "language_info": {
      "name": "python"
    }
  },
  "cells": [
    {
      "cell_type": "markdown",
      "metadata": {
        "id": "view-in-github",
        "colab_type": "text"
      },
      "source": [
        "<a href=\"https://colab.research.google.com/github/aknip/Streamlit-Gradio/blob/main/Pandas.ipynb\" target=\"_parent\"><img src=\"https://colab.research.google.com/assets/colab-badge.svg\" alt=\"Open In Colab\"/></a>"
      ]
    },
    {
      "cell_type": "markdown",
      "source": [
        "Basic Tutorial:\n",
        "- https://www.python-kurs.eu/pandas.php\n",
        "\n",
        "Weitere Links:\n",
        "- https://pbpython.com/dataframe-gui-overview.html\n",
        "- https://www.datacamp.com/tutorial/how-to-use-sql-in-pandas-using-pandasql-queries\n",
        "- https://www.geeksforgeeks.org/how-to-combine-two-dataframe-in-python-pandas/\n"
      ],
      "metadata": {
        "id": "bV3z8BG6rCpM"
      }
    },
    {
      "cell_type": "code",
      "execution_count": 9,
      "metadata": {
        "id": "SBs5e1ieq1jZ",
        "colab": {
          "base_uri": "https://localhost:8080/"
        },
        "outputId": "24b5306c-0ac5-4832-cd10-b70ef52b9743"
      },
      "outputs": [
        {
          "output_type": "stream",
          "name": "stdout",
          "text": [
            "apples      37\n",
            "oranges     46\n",
            "cherries    83\n",
            "pears       42\n",
            "dtype: int64\n",
            "Summe aus S:  115\n"
          ]
        }
      ],
      "source": [
        "import pandas as pd\n",
        "fruits = ['apples', 'oranges', 'cherries', 'pears']\n",
        "S = pd.Series([20, 33, 52, 10], index=fruits)\n",
        "S2 = pd.Series([17, 13, 31, 32], index=fruits)\n",
        "print(S + S2)\n",
        "print(\"Summe aus S: \", sum(S))"
      ]
    },
    {
      "cell_type": "code",
      "source": [
        "print(S[['apples', 'oranges', 'cherries']])"
      ],
      "metadata": {
        "colab": {
          "base_uri": "https://localhost:8080/"
        },
        "id": "gtxFyzkxtTnD",
        "outputId": "30d48a9d-6423-4de9-84d0-336976c1eb7a"
      },
      "execution_count": 10,
      "outputs": [
        {
          "output_type": "stream",
          "name": "stdout",
          "text": [
            "apples      20\n",
            "oranges     33\n",
            "cherries    52\n",
            "dtype: int64\n"
          ]
        }
      ]
    },
    {
      "cell_type": "code",
      "source": [
        "print(S[S>30])"
      ],
      "metadata": {
        "colab": {
          "base_uri": "https://localhost:8080/"
        },
        "id": "-ad51onAtcGI",
        "outputId": "471a03c0-4d56-4e55-8d04-1f2703f5695f"
      },
      "execution_count": 16,
      "outputs": [
        {
          "output_type": "stream",
          "name": "stdout",
          "text": [
            "oranges     33\n",
            "cherries    52\n",
            "dtype: int64\n"
          ]
        }
      ]
    }
  ]
}