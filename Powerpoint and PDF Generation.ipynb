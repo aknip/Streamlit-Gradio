{
  "cells": [
    {
      "cell_type": "markdown",
      "metadata": {
        "id": "view-in-github",
        "colab_type": "text"
      },
      "source": [
        "<a href=\"https://colab.research.google.com/github/aknip/Streamlit-Gradio/blob/main/Powerpoint%20and%20PDF%20Generation.ipynb\" target=\"_parent\"><img src=\"https://colab.research.google.com/assets/colab-badge.svg\" alt=\"Open In Colab\"/></a>"
      ]
    },
    {
      "cell_type": "markdown",
      "source": [
        "# Powerpoint and PDF Generation\n",
        "\n",
        "\n",
        "## Goal\n",
        "- Editing Powerpoint files\n",
        "- Converting Powerpoint files to PDF\n",
        "\n",
        "## Sources\n",
        "- \"Using Python to Update PowerPoint. Step by step tutorial to edit PowerPoint slides using Python\": https://towardsdatascience.com/use-python-to-automate-the-powerpoint-update-4a385acf1243\n",
        "- \"Stackoverflow: Use unoconv on Ubuntu to convert PPTX to PDF\": https://stackoverflow.com/a/63664087"
      ],
      "metadata": {
        "id": "Ht3Wkxk7Rpn_"
      }
    },
    {
      "cell_type": "markdown",
      "source": [
        "# Setup and Configuration"
      ],
      "metadata": {
        "id": "2goGpKmVRRUd"
      }
    },
    {
      "cell_type": "code",
      "source": [
        "# @title Settings\n",
        "\n",
        "# @markdown Initial Setup Mode for pip install, fetch credentials etc.\n",
        "initial_setup_mode = False # @param {type:\"boolean\"}\n",
        "\n",
        "# @markdown Debug Mode for extensive logging.\n",
        "debug_mode = False # @param {type:\"boolean\"}\n",
        "\n",
        "# @markdown iOS Mode to develop helper functions, no Gradio.\n",
        "# @markdown Useful for development on iOS, eg. with Carnets App\n",
        "ios_mode = False # @param {type:\"boolean\"}"
      ],
      "metadata": {
        "cellView": "form",
        "id": "9NyekTkaGU3Z"
      },
      "execution_count": 43,
      "outputs": []
    },
    {
      "cell_type": "markdown",
      "source": [
        "# Helper Functions"
      ],
      "metadata": {
        "id": "zO7UxoRjSWUy"
      }
    },
    {
      "cell_type": "code",
      "source": [
        "# Some Code\n",
        "import shutil\n",
        "def delete_file_directory(directory):\n",
        "    # delete the diectory recursively\n",
        "    if os.path.exists(directory):\n",
        "        shutil.rmtree(directory)\n",
        "    # create directory\n",
        "    os.mkdir(directory)"
      ],
      "metadata": {
        "id": "dydmkY6_SZeG"
      },
      "execution_count": 44,
      "outputs": []
    },
    {
      "cell_type": "markdown",
      "source": [
        "# Powerpoint Editing:"
      ],
      "metadata": {
        "id": "y6Ick5AcX_a7"
      }
    },
    {
      "cell_type": "markdown",
      "source": [
        "Inital setup: Install dependencies, create directories, download demo PPT from github-repo"
      ],
      "metadata": {
        "id": "oI7dXMQgHQE6"
      }
    },
    {
      "cell_type": "code",
      "source": [
        "# Dependencies\n",
        "if (initial_setup_mode == True) and (ios_mode == False) :\n",
        "  !pip install python-pptx\n",
        "else:\n",
        "  print('No initial setup / iOS.')"
      ],
      "metadata": {
        "id": "-TpG9Zr0IUU0",
        "colab": {
          "base_uri": "https://localhost:8080/"
        },
        "outputId": "9fb62f2a-5544-489e-ebf4-8b1b87915045"
      },
      "execution_count": 45,
      "outputs": [
        {
          "output_type": "stream",
          "name": "stdout",
          "text": [
            "No initial setup / iOS.\n"
          ]
        }
      ]
    },
    {
      "cell_type": "code",
      "source": [
        "# Create directories, PPT demo file download\n",
        "if (initial_setup_mode == True) and (ios_mode == False) :\n",
        "  delete_file_directory(\"ppt-input\")\n",
        "  !wget -P ppt-input -q https://github.com/aknip/Streamlit-Gradio/raw/main/Powerpoint%20and%20PDF%20Generation/presentation.pptx\n",
        "  delete_file_directory(\"ppt-output\")\n",
        "else:\n",
        "  print('No initial setup / iOS.')"
      ],
      "metadata": {
        "colab": {
          "base_uri": "https://localhost:8080/"
        },
        "id": "_SuhY0QKF6oI",
        "outputId": "88111227-e6eb-42bc-d163-5d429a75293a"
      },
      "execution_count": 46,
      "outputs": [
        {
          "output_type": "stream",
          "name": "stdout",
          "text": [
            "No initial setup / iOS.\n"
          ]
        }
      ]
    },
    {
      "cell_type": "markdown",
      "source": [
        "Start PPT editing."
      ],
      "metadata": {
        "id": "VsNXt3XOHzVJ"
      }
    },
    {
      "cell_type": "code",
      "source": [
        "from pptx import Presentation\n",
        "delete_file_directory(\"ppt-output\")\n",
        "currencies_ppt = Presentation('ppt-input/presentation.pptx')\n",
        "currencies_ppt.save('ppt-output/presentation2.pptx')\n"
      ],
      "metadata": {
        "id": "jtyE-yxbX6o-"
      },
      "execution_count": 47,
      "outputs": []
    },
    {
      "cell_type": "markdown",
      "source": [
        "# Powerpoint to PDF conversion"
      ],
      "metadata": {
        "id": "k9bGCfzpDWFe"
      }
    },
    {
      "cell_type": "markdown",
      "source": [
        "Inital setup: Install dependencies, create directories"
      ],
      "metadata": {
        "id": "PgAzylzBKABW"
      }
    },
    {
      "cell_type": "code",
      "source": [
        "# Dependencies\n",
        "if (initial_setup_mode == True) and (ios_mode == False) :\n",
        "  !sudo apt install unoconv\n",
        "  !pip install tqdm\n",
        "  #!pip install glob\n",
        "else:\n",
        "  print('No initial setup / iOS.')\n"
      ],
      "metadata": {
        "id": "_gUcNHOgYQ3u",
        "colab": {
          "base_uri": "https://localhost:8080/"
        },
        "outputId": "34725aad-5630-4690-e3fc-771a6b79938f"
      },
      "execution_count": 48,
      "outputs": [
        {
          "output_type": "stream",
          "name": "stdout",
          "text": [
            "No initial setup / iOS.\n"
          ]
        }
      ]
    },
    {
      "cell_type": "code",
      "source": [
        "# Create directories\n",
        "if (initial_setup_mode == True) and (ios_mode == False) :\n",
        "  delete_file_directory(\"pdf-output\")\n",
        "else:\n",
        "  print('No initial setup / iOS.')"
      ],
      "metadata": {
        "id": "A6ScQ-kQJp2Z",
        "outputId": "cc828495-7761-49f9-f93a-8578994848d9",
        "colab": {
          "base_uri": "https://localhost:8080/"
        }
      },
      "execution_count": 49,
      "outputs": [
        {
          "output_type": "stream",
          "name": "stdout",
          "text": [
            "No initial setup / iOS.\n"
          ]
        }
      ]
    },
    {
      "cell_type": "markdown",
      "source": [
        "Start PDF conversion"
      ],
      "metadata": {
        "id": "qNSM3apBKNow"
      }
    },
    {
      "cell_type": "code",
      "source": [
        "import os\n",
        "\n",
        "delete_file_directory(\"pdf-output\")\n",
        "command = 'unoconv -f pdf -o \"pdf-output/presentation.pdf\" \"ppt-input/presentation.pptx\" '\n",
        "os.system(command)\n",
        "\n"
      ],
      "metadata": {
        "id": "QBWgFRWLIUwJ",
        "outputId": "dca16aa3-917d-43ef-c379-aaecdb08637c",
        "colab": {
          "base_uri": "https://localhost:8080/"
        }
      },
      "execution_count": 50,
      "outputs": [
        {
          "output_type": "execute_result",
          "data": {
            "text/plain": [
              "0"
            ]
          },
          "metadata": {},
          "execution_count": 50
        }
      ]
    }
  ],
  "metadata": {
    "colab": {
      "provenance": [],
      "authorship_tag": "ABX9TyNByddSlJqq3SvoeKo0Fajc",
      "include_colab_link": true
    },
    "kernelspec": {
      "display_name": "Python 3",
      "name": "python3"
    },
    "language_info": {
      "name": "python"
    }
  },
  "nbformat": 4,
  "nbformat_minor": 0
}