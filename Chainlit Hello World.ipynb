{
  "nbformat": 4,
  "nbformat_minor": 0,
  "metadata": {
    "colab": {
      "provenance": [],
      "include_colab_link": true
    },
    "kernelspec": {
      "name": "python3",
      "display_name": "Python 3"
    },
    "language_info": {
      "name": "python"
    }
  },
  "cells": [
    {
      "cell_type": "markdown",
      "metadata": {
        "id": "view-in-github",
        "colab_type": "text"
      },
      "source": [
        "<a href=\"https://colab.research.google.com/github/aknip/Streamlit-Gradio/blob/main/Chainlit%20Hello%20World.ipynb\" target=\"_parent\"><img src=\"https://colab.research.google.com/assets/colab-badge.svg\" alt=\"Open In Colab\"/></a>"
      ]
    },
    {
      "cell_type": "code",
      "execution_count": null,
      "metadata": {
        "id": "pmgfCcJdkrLg"
      },
      "outputs": [],
      "source": [
        "!pip install chainlit\n",
        "!npm install localtunnel"
      ]
    },
    {
      "cell_type": "code",
      "source": [
        "%%writefile app.py\n",
        "import chainlit as cl\n",
        "\n",
        "@cl.on_message\n",
        "async def main(message: str):\n",
        "    # Your custom logic goes here...\n",
        "\n",
        "    # Send a response back to the user\n",
        "    await cl.Message(\n",
        "        content=f\"Received: {message}\",\n",
        "    ).send()"
      ],
      "metadata": {
        "colab": {
          "base_uri": "https://localhost:8080/"
        },
        "id": "CwcNZHGVovQW",
        "outputId": "a41672ab-b9d7-4f0c-b0c6-21e89a80afdb"
      },
      "execution_count": 8,
      "outputs": [
        {
          "output_type": "stream",
          "name": "stdout",
          "text": [
            "Overwriting app.py\n"
          ]
        }
      ]
    },
    {
      "cell_type": "code",
      "source": [
        "print(\"############\")\n",
        "print(\"IP v\")\n",
        "!curl https://ipv4.icanhazip.com/\n",
        "print(\"############\")\n",
        "print(\"\")\n",
        "print(\"Enter this IP in the localtunnel webpage!\")\n",
        "print(\"\")"
      ],
      "metadata": {
        "colab": {
          "base_uri": "https://localhost:8080/"
        },
        "id": "WiTnqSOXk0DG",
        "outputId": "063a6066-ed28-4727-9b9e-c953c37543a3"
      },
      "execution_count": 10,
      "outputs": [
        {
          "output_type": "stream",
          "name": "stdout",
          "text": [
            "############\n",
            "IP v\n",
            "34.74.212.184\n",
            "############\n",
            "\n",
            "Enter this IP in the localtunnel webpage!\n",
            "\n"
          ]
        }
      ]
    },
    {
      "cell_type": "code",
      "source": [
        "# booting server\n",
        "!chainlit run app.py & npx localtunnel --port 8000"
      ],
      "metadata": {
        "id": "TpHWDp3qo9oP",
        "outputId": "8b7cd5a6-4977-4488-fc44-636c1f464930",
        "colab": {
          "base_uri": "https://localhost:8080/"
        }
      },
      "execution_count": 7,
      "outputs": [
        {
          "output_type": "stream",
          "name": "stdout",
          "text": [
            "2023-08-31 21:57:25 - Your app is available at http://localhost:8000\n",
            "\u001b[K\u001b[?25hnpx: installed 22 in 3.107s\n",
            "your url is: https://happy-hounds-retire.loca.lt\n",
            "^C\n"
          ]
        }
      ]
    },
    {
      "cell_type": "code",
      "source": [
        "pid = !ps aux | grep \"chainlit\" | awk '{print $2}'\n",
        "pid=pid[0]\n",
        "!kill $pid"
      ],
      "metadata": {
        "id": "s129JAGYlTos"
      },
      "execution_count": null,
      "outputs": []
    }
  ]
}